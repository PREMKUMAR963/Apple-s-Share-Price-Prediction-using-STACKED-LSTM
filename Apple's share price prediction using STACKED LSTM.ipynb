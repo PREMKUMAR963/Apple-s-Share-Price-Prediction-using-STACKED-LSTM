{
 "cells": [
  {
   "cell_type": "code",
   "execution_count": 2,
   "id": "bdd193ed",
   "metadata": {},
   "outputs": [],
   "source": [
    "key = 'a5a8fcee979581066feea3e2df22d53d894c5fb9'"
   ]
  },
  {
   "cell_type": "code",
   "execution_count": 4,
   "id": "227a7723",
   "metadata": {},
   "outputs": [],
   "source": [
    "import pandas_datareader as pdr"
   ]
  },
  {
   "cell_type": "code",
   "execution_count": 6,
   "id": "a35baa17",
   "metadata": {},
   "outputs": [],
   "source": [
    "df = pdr.get_data_tiingo('AAPL', api_key=key)"
   ]
  },
  {
   "cell_type": "code",
   "execution_count": 11,
   "id": "100699a5",
   "metadata": {},
   "outputs": [
    {
     "data": {
      "text/html": [
       "<div>\n",
       "<style scoped>\n",
       "    .dataframe tbody tr th:only-of-type {\n",
       "        vertical-align: middle;\n",
       "    }\n",
       "\n",
       "    .dataframe tbody tr th {\n",
       "        vertical-align: top;\n",
       "    }\n",
       "\n",
       "    .dataframe thead th {\n",
       "        text-align: right;\n",
       "    }\n",
       "</style>\n",
       "<table border=\"1\" class=\"dataframe\">\n",
       "  <thead>\n",
       "    <tr style=\"text-align: right;\">\n",
       "      <th></th>\n",
       "      <th>symbol</th>\n",
       "      <th>date</th>\n",
       "      <th>close</th>\n",
       "      <th>high</th>\n",
       "      <th>low</th>\n",
       "      <th>open</th>\n",
       "      <th>volume</th>\n",
       "      <th>adjClose</th>\n",
       "      <th>adjHigh</th>\n",
       "      <th>adjLow</th>\n",
       "      <th>adjOpen</th>\n",
       "      <th>adjVolume</th>\n",
       "      <th>divCash</th>\n",
       "      <th>splitFactor</th>\n",
       "    </tr>\n",
       "  </thead>\n",
       "  <tbody>\n",
       "    <tr>\n",
       "      <th>0</th>\n",
       "      <td>AAPL</td>\n",
       "      <td>2017-07-17 00:00:00+00:00</td>\n",
       "      <td>149.56</td>\n",
       "      <td>150.90</td>\n",
       "      <td>148.57</td>\n",
       "      <td>148.82</td>\n",
       "      <td>23243713</td>\n",
       "      <td>35.389423</td>\n",
       "      <td>35.706498</td>\n",
       "      <td>35.155165</td>\n",
       "      <td>35.214321</td>\n",
       "      <td>92974852</td>\n",
       "      <td>0.0</td>\n",
       "      <td>1.0</td>\n",
       "    </tr>\n",
       "    <tr>\n",
       "      <th>1</th>\n",
       "      <td>AAPL</td>\n",
       "      <td>2017-07-18 00:00:00+00:00</td>\n",
       "      <td>150.08</td>\n",
       "      <td>150.13</td>\n",
       "      <td>148.67</td>\n",
       "      <td>149.20</td>\n",
       "      <td>17713795</td>\n",
       "      <td>35.512467</td>\n",
       "      <td>35.524298</td>\n",
       "      <td>35.178828</td>\n",
       "      <td>35.304238</td>\n",
       "      <td>70855180</td>\n",
       "      <td>0.0</td>\n",
       "      <td>1.0</td>\n",
       "    </tr>\n",
       "    <tr>\n",
       "      <th>2</th>\n",
       "      <td>AAPL</td>\n",
       "      <td>2017-07-19 00:00:00+00:00</td>\n",
       "      <td>151.02</td>\n",
       "      <td>151.42</td>\n",
       "      <td>149.95</td>\n",
       "      <td>150.48</td>\n",
       "      <td>20615419</td>\n",
       "      <td>35.734893</td>\n",
       "      <td>35.829543</td>\n",
       "      <td>35.481706</td>\n",
       "      <td>35.607116</td>\n",
       "      <td>82461676</td>\n",
       "      <td>0.0</td>\n",
       "      <td>1.0</td>\n",
       "    </tr>\n",
       "    <tr>\n",
       "      <th>3</th>\n",
       "      <td>AAPL</td>\n",
       "      <td>2017-07-20 00:00:00+00:00</td>\n",
       "      <td>150.34</td>\n",
       "      <td>151.74</td>\n",
       "      <td>150.19</td>\n",
       "      <td>151.50</td>\n",
       "      <td>17053326</td>\n",
       "      <td>35.573989</td>\n",
       "      <td>35.905262</td>\n",
       "      <td>35.538496</td>\n",
       "      <td>35.848473</td>\n",
       "      <td>68213304</td>\n",
       "      <td>0.0</td>\n",
       "      <td>1.0</td>\n",
       "    </tr>\n",
       "    <tr>\n",
       "      <th>4</th>\n",
       "      <td>AAPL</td>\n",
       "      <td>2017-07-21 00:00:00+00:00</td>\n",
       "      <td>150.27</td>\n",
       "      <td>150.44</td>\n",
       "      <td>148.88</td>\n",
       "      <td>149.99</td>\n",
       "      <td>24671002</td>\n",
       "      <td>35.557426</td>\n",
       "      <td>35.597652</td>\n",
       "      <td>35.228519</td>\n",
       "      <td>35.491171</td>\n",
       "      <td>98684008</td>\n",
       "      <td>0.0</td>\n",
       "      <td>1.0</td>\n",
       "    </tr>\n",
       "  </tbody>\n",
       "</table>\n",
       "</div>"
      ],
      "text/plain": [
       "  symbol                       date   close    high     low    open    volume  \\\n",
       "0   AAPL  2017-07-17 00:00:00+00:00  149.56  150.90  148.57  148.82  23243713   \n",
       "1   AAPL  2017-07-18 00:00:00+00:00  150.08  150.13  148.67  149.20  17713795   \n",
       "2   AAPL  2017-07-19 00:00:00+00:00  151.02  151.42  149.95  150.48  20615419   \n",
       "3   AAPL  2017-07-20 00:00:00+00:00  150.34  151.74  150.19  151.50  17053326   \n",
       "4   AAPL  2017-07-21 00:00:00+00:00  150.27  150.44  148.88  149.99  24671002   \n",
       "\n",
       "    adjClose    adjHigh     adjLow    adjOpen  adjVolume  divCash  splitFactor  \n",
       "0  35.389423  35.706498  35.155165  35.214321   92974852      0.0          1.0  \n",
       "1  35.512467  35.524298  35.178828  35.304238   70855180      0.0          1.0  \n",
       "2  35.734893  35.829543  35.481706  35.607116   82461676      0.0          1.0  \n",
       "3  35.573989  35.905262  35.538496  35.848473   68213304      0.0          1.0  \n",
       "4  35.557426  35.597652  35.228519  35.491171   98684008      0.0          1.0  "
      ]
     },
     "execution_count": 11,
     "metadata": {},
     "output_type": "execute_result"
    }
   ],
   "source": [
    "df.head()"
   ]
  },
  {
   "cell_type": "code",
   "execution_count": 12,
   "id": "c4fbaed3",
   "metadata": {},
   "outputs": [
    {
     "data": {
      "text/html": [
       "<div>\n",
       "<style scoped>\n",
       "    .dataframe tbody tr th:only-of-type {\n",
       "        vertical-align: middle;\n",
       "    }\n",
       "\n",
       "    .dataframe tbody tr th {\n",
       "        vertical-align: top;\n",
       "    }\n",
       "\n",
       "    .dataframe thead th {\n",
       "        text-align: right;\n",
       "    }\n",
       "</style>\n",
       "<table border=\"1\" class=\"dataframe\">\n",
       "  <thead>\n",
       "    <tr style=\"text-align: right;\">\n",
       "      <th></th>\n",
       "      <th>symbol</th>\n",
       "      <th>date</th>\n",
       "      <th>close</th>\n",
       "      <th>high</th>\n",
       "      <th>low</th>\n",
       "      <th>open</th>\n",
       "      <th>volume</th>\n",
       "      <th>adjClose</th>\n",
       "      <th>adjHigh</th>\n",
       "      <th>adjLow</th>\n",
       "      <th>adjOpen</th>\n",
       "      <th>adjVolume</th>\n",
       "      <th>divCash</th>\n",
       "      <th>splitFactor</th>\n",
       "    </tr>\n",
       "  </thead>\n",
       "  <tbody>\n",
       "    <tr>\n",
       "      <th>1253</th>\n",
       "      <td>AAPL</td>\n",
       "      <td>2022-07-08 00:00:00+00:00</td>\n",
       "      <td>147.04</td>\n",
       "      <td>147.55</td>\n",
       "      <td>145.0000</td>\n",
       "      <td>145.265</td>\n",
       "      <td>64547798</td>\n",
       "      <td>147.04</td>\n",
       "      <td>147.55</td>\n",
       "      <td>145.0000</td>\n",
       "      <td>145.265</td>\n",
       "      <td>64547798</td>\n",
       "      <td>0.0</td>\n",
       "      <td>1.0</td>\n",
       "    </tr>\n",
       "    <tr>\n",
       "      <th>1254</th>\n",
       "      <td>AAPL</td>\n",
       "      <td>2022-07-11 00:00:00+00:00</td>\n",
       "      <td>144.87</td>\n",
       "      <td>146.64</td>\n",
       "      <td>143.7800</td>\n",
       "      <td>145.670</td>\n",
       "      <td>63305113</td>\n",
       "      <td>144.87</td>\n",
       "      <td>146.64</td>\n",
       "      <td>143.7800</td>\n",
       "      <td>145.670</td>\n",
       "      <td>63305113</td>\n",
       "      <td>0.0</td>\n",
       "      <td>1.0</td>\n",
       "    </tr>\n",
       "    <tr>\n",
       "      <th>1255</th>\n",
       "      <td>AAPL</td>\n",
       "      <td>2022-07-12 00:00:00+00:00</td>\n",
       "      <td>145.86</td>\n",
       "      <td>148.45</td>\n",
       "      <td>145.0500</td>\n",
       "      <td>145.760</td>\n",
       "      <td>77588759</td>\n",
       "      <td>145.86</td>\n",
       "      <td>148.45</td>\n",
       "      <td>145.0500</td>\n",
       "      <td>145.760</td>\n",
       "      <td>77588759</td>\n",
       "      <td>0.0</td>\n",
       "      <td>1.0</td>\n",
       "    </tr>\n",
       "    <tr>\n",
       "      <th>1256</th>\n",
       "      <td>AAPL</td>\n",
       "      <td>2022-07-13 00:00:00+00:00</td>\n",
       "      <td>145.49</td>\n",
       "      <td>146.45</td>\n",
       "      <td>142.1201</td>\n",
       "      <td>142.990</td>\n",
       "      <td>71185560</td>\n",
       "      <td>145.49</td>\n",
       "      <td>146.45</td>\n",
       "      <td>142.1201</td>\n",
       "      <td>142.990</td>\n",
       "      <td>71185560</td>\n",
       "      <td>0.0</td>\n",
       "      <td>1.0</td>\n",
       "    </tr>\n",
       "    <tr>\n",
       "      <th>1257</th>\n",
       "      <td>AAPL</td>\n",
       "      <td>2022-07-14 00:00:00+00:00</td>\n",
       "      <td>148.47</td>\n",
       "      <td>148.95</td>\n",
       "      <td>143.2500</td>\n",
       "      <td>144.080</td>\n",
       "      <td>78140744</td>\n",
       "      <td>148.47</td>\n",
       "      <td>148.95</td>\n",
       "      <td>143.2500</td>\n",
       "      <td>144.080</td>\n",
       "      <td>78140744</td>\n",
       "      <td>0.0</td>\n",
       "      <td>1.0</td>\n",
       "    </tr>\n",
       "  </tbody>\n",
       "</table>\n",
       "</div>"
      ],
      "text/plain": [
       "     symbol                       date   close    high       low     open  \\\n",
       "1253   AAPL  2022-07-08 00:00:00+00:00  147.04  147.55  145.0000  145.265   \n",
       "1254   AAPL  2022-07-11 00:00:00+00:00  144.87  146.64  143.7800  145.670   \n",
       "1255   AAPL  2022-07-12 00:00:00+00:00  145.86  148.45  145.0500  145.760   \n",
       "1256   AAPL  2022-07-13 00:00:00+00:00  145.49  146.45  142.1201  142.990   \n",
       "1257   AAPL  2022-07-14 00:00:00+00:00  148.47  148.95  143.2500  144.080   \n",
       "\n",
       "        volume  adjClose  adjHigh    adjLow  adjOpen  adjVolume  divCash  \\\n",
       "1253  64547798    147.04   147.55  145.0000  145.265   64547798      0.0   \n",
       "1254  63305113    144.87   146.64  143.7800  145.670   63305113      0.0   \n",
       "1255  77588759    145.86   148.45  145.0500  145.760   77588759      0.0   \n",
       "1256  71185560    145.49   146.45  142.1201  142.990   71185560      0.0   \n",
       "1257  78140744    148.47   148.95  143.2500  144.080   78140744      0.0   \n",
       "\n",
       "      splitFactor  \n",
       "1253          1.0  \n",
       "1254          1.0  \n",
       "1255          1.0  \n",
       "1256          1.0  \n",
       "1257          1.0  "
      ]
     },
     "execution_count": 12,
     "metadata": {},
     "output_type": "execute_result"
    }
   ],
   "source": [
    "df.tail()"
   ]
  },
  {
   "cell_type": "code",
   "execution_count": 7,
   "id": "96897aa9",
   "metadata": {},
   "outputs": [],
   "source": [
    "df.to_csv('AAPL.csv')"
   ]
  },
  {
   "cell_type": "code",
   "execution_count": 8,
   "id": "201941c8",
   "metadata": {},
   "outputs": [],
   "source": [
    "import pandas as pd"
   ]
  },
  {
   "cell_type": "code",
   "execution_count": 9,
   "id": "a07f1ced",
   "metadata": {},
   "outputs": [],
   "source": [
    "df = pd.read_csv('AAPL.csv')"
   ]
  },
  {
   "cell_type": "code",
   "execution_count": 14,
   "id": "2bd89e44",
   "metadata": {},
   "outputs": [],
   "source": [
    "df1 = df.reset_index()['close']"
   ]
  },
  {
   "cell_type": "code",
   "execution_count": 16,
   "id": "3b1c68ba",
   "metadata": {},
   "outputs": [
    {
     "data": {
      "text/plain": [
       "(1258,)"
      ]
     },
     "execution_count": 16,
     "metadata": {},
     "output_type": "execute_result"
    }
   ],
   "source": [
    "df1.shape"
   ]
  },
  {
   "cell_type": "code",
   "execution_count": 17,
   "id": "bbf46ec0",
   "metadata": {},
   "outputs": [
    {
     "data": {
      "text/plain": [
       "0       149.56\n",
       "1       150.08\n",
       "2       151.02\n",
       "3       150.34\n",
       "4       150.27\n",
       "         ...  \n",
       "1253    147.04\n",
       "1254    144.87\n",
       "1255    145.86\n",
       "1256    145.49\n",
       "1257    148.47\n",
       "Name: close, Length: 1258, dtype: float64"
      ]
     },
     "execution_count": 17,
     "metadata": {},
     "output_type": "execute_result"
    }
   ],
   "source": [
    "df1"
   ]
  },
  {
   "cell_type": "code",
   "execution_count": 18,
   "id": "896f7bf4",
   "metadata": {},
   "outputs": [
    {
     "data": {
      "text/plain": [
       "[<matplotlib.lines.Line2D at 0x5d23ce8520>]"
      ]
     },
     "execution_count": 18,
     "metadata": {},
     "output_type": "execute_result"
    },
    {
     "data": {
      "image/png": "[encoded data removed]",
      "text/plain": [
       "<Figure size 432x288 with 1 Axes>"
      ]
     },
     "metadata": {
      "needs_background": "light"
     },
     "output_type": "display_data"
    }
   ],
   "source": [
    "import matplotlib.pyplot as plt\n",
    "plt.plot(df1)"
   ]
  },
  {
   "cell_type": "code",
   "execution_count": 19,
   "id": "c2470d55",
   "metadata": {},
   "outputs": [],
   "source": [
    "### LSTM are very sensitive to the scale of the data. apply MinMax scaler\n",
    "import numpy as np"
   ]
  },
  {
   "cell_type": "code",
   "execution_count": 21,
   "id": "3d265f3c",
   "metadata": {},
   "outputs": [],
   "source": [
    "from sklearn.preprocessing import MinMaxScaler\n",
    "scaler = MinMaxScaler(feature_range=(0,1))\n",
    "df1=scaler.fit_transform(np.array(df1).reshape(-1,1))"
   ]
  },
  {
   "cell_type": "code",
   "execution_count": 23,
   "id": "9cfa7057",
   "metadata": {},
   "outputs": [
    {
     "data": {
      "text/plain": [
       "(1258, 1)"
      ]
     },
     "execution_count": 23,
     "metadata": {},
     "output_type": "execute_result"
    }
   ],
   "source": [
    "df1.shape"
   ]
  },
  {
   "cell_type": "code",
   "execution_count": 24,
   "id": "cbb04216",
   "metadata": {},
   "outputs": [
    {
     "data": {
      "text/plain": [
       "array([[0.10700063],\n",
       "       [0.10830307],\n",
       "       [0.11065748],\n",
       "       ...,\n",
       "       [0.09773325],\n",
       "       [0.09680651],\n",
       "       [0.10427051]])"
      ]
     },
     "execution_count": 24,
     "metadata": {},
     "output_type": "execute_result"
    }
   ],
   "source": [
    "df1"
   ]
  },
  {
   "cell_type": "code",
   "execution_count": 26,
   "id": "98b19d90",
   "metadata": {},
   "outputs": [],
   "source": [
    "### splitting dataset into training and testing data\n",
    "training_size = int(len(df1)*0.65)\n",
    "test_size = len(df1)- training_size\n",
    "train_data, test_data = df1[0:training_size,:],df1[training_size:len(df1), :1]"
   ]
  },
  {
   "cell_type": "code",
   "execution_count": 28,
   "id": "9e8774f8",
   "metadata": {},
   "outputs": [
    {
     "data": {
      "text/plain": [
       "(817, 441)"
      ]
     },
     "execution_count": 28,
     "metadata": {},
     "output_type": "execute_result"
    }
   ],
   "source": [
    "training_size,test_size"
   ]
  },
  {
   "cell_type": "code",
   "execution_count": null,
   "id": "4ec3e503",
   "metadata": {},
   "outputs": [],
   "source": []
  },
  {
   "cell_type": "code",
   "execution_count": 41,
   "id": "6e2f44af",
   "metadata": {},
   "outputs": [],
   "source": [
    "import numpy\n",
    "def create_dataset(dataset, time_step):\n",
    "    dataX, dataY = [], []\n",
    "    for i in range(len(dataset)-time_step-1):\n",
    "        a = dataset[i:(i+time_step),0]\n",
    "        dataX.append(a)\n",
    "        dataY.append(dataset[i + time_step, 0])\n",
    "    return numpy.array(dataX) , numpy.array(dataY)"
   ]
  },
  {
   "cell_type": "code",
   "execution_count": 42,
   "id": "0a839585",
   "metadata": {},
   "outputs": [],
   "source": [
    "time_step = 100\n",
    "X_train, y_train = create_dataset(train_data, time_step)\n",
    "X_test, y_test = create_dataset(test_data, time_step)"
   ]
  },
  {
   "cell_type": "code",
   "execution_count": 43,
   "id": "7c3021db",
   "metadata": {},
   "outputs": [
    {
     "name": "stdout",
     "output_type": "stream",
     "text": [
      "[[0.10700063 0.10830307 0.11065748 ... 0.16082655 0.15769568 0.15729493]\n",
      " [0.10830307 0.11065748 0.10895429 ... 0.15769568 0.15729493 0.15571697]\n",
      " [0.11065748 0.10895429 0.10877896 ... 0.15729493 0.15571697 0.15649343]\n",
      " ...\n",
      " [0.50311835 0.5212774  0.51671885 ... 0.01547902 0.02419537 0.01582968]\n",
      " [0.5212774  0.51671885 0.53197245 ... 0.02419537 0.01582968 0.0206387 ]\n",
      " [0.51671885 0.53197245 0.52601127 ... 0.01582968 0.0206387  0.02036318]]\n"
     ]
    }
   ],
   "source": [
    "print(X_train)"
   ]
  },
  {
   "cell_type": "code",
   "execution_count": 44,
   "id": "ac00a4f6",
   "metadata": {},
   "outputs": [
    {
     "data": {
      "text/plain": [
       "(716, 100)"
      ]
     },
     "execution_count": 44,
     "metadata": {},
     "output_type": "execute_result"
    }
   ],
   "source": [
    "X_train.shape"
   ]
  },
  {
   "cell_type": "code",
   "execution_count": 45,
   "id": "dedca17a",
   "metadata": {},
   "outputs": [
    {
     "data": {
      "text/plain": [
       "(340, 100)"
      ]
     },
     "execution_count": 45,
     "metadata": {},
     "output_type": "execute_result"
    }
   ],
   "source": [
    "X_test.shape"
   ]
  },
  {
   "cell_type": "code",
   "execution_count": 46,
   "id": "7910d71a",
   "metadata": {},
   "outputs": [],
   "source": [
    "# reshape input to be [samples, time steps, features] which is required for  LSTM\n",
    "X_train = X_train.reshape(X_train.shape[0], X_train.shape[1], 1 )\n",
    "X_test = X_test.reshape(X_test.shape[0], X_test.shape[1], 1 )\n"
   ]
  },
  {
   "cell_type": "code",
   "execution_count": 48,
   "id": "aa9c219b",
   "metadata": {},
   "outputs": [],
   "source": [
    "### Creation of LSTM model\n",
    "from tensorflow.keras.models import Sequential\n",
    "from tensorflow.keras.layers import Dense\n",
    "from tensorflow.keras.layers import LSTM\n"
   ]
  },
  {
   "cell_type": "code",
   "execution_count": 54,
   "id": "0631d908",
   "metadata": {},
   "outputs": [],
   "source": [
    "model = Sequential()\n",
    "model.add(LSTM(50, return_sequences=True, input_shape=(100,1)))\n",
    "model.add(LSTM(50,return_sequences=True))\n",
    "model.add(LSTM(50))\n",
    "model.add(Dense(1))\n",
    "model.compile(loss='mean_squared_error', optimizer='adam')"
   ]
  },
  {
   "cell_type": "code",
   "execution_count": 55,
   "id": "f30d5055",
   "metadata": {},
   "outputs": [
    {
     "name": "stdout",
     "output_type": "stream",
     "text": [
      "Model: \"sequential_3\"\n",
      "_________________________________________________________________\n",
      "Layer (type)                 Output Shape              Param #   \n",
      "=================================================================\n",
      "lstm_6 (LSTM)                (None, 100, 50)           10400     \n",
      "_________________________________________________________________\n",
      "lstm_7 (LSTM)                (None, 100, 50)           20200     \n",
      "_________________________________________________________________\n",
      "lstm_8 (LSTM)                (None, 50)                20200     \n",
      "_________________________________________________________________\n",
      "dense_2 (Dense)              (None, 1)                 51        \n",
      "=================================================================\n",
      "Total params: 50,851\n",
      "Trainable params: 50,851\n",
      "Non-trainable params: 0\n",
      "_________________________________________________________________\n"
     ]
    }
   ],
   "source": [
    "model.summary()"
   ]
  },
  {
   "cell_type": "code",
   "execution_count": 56,
   "id": "829fbdcf",
   "metadata": {},
   "outputs": [
    {
     "name": "stdout",
     "output_type": "stream",
     "text": [
      "Epoch 1/100\n",
      "12/12 [==============================] - 7s 545ms/step - loss: 0.0333 - val_loss: 0.0014\n",
      "Epoch 2/100\n",
      "12/12 [==============================] - 4s 293ms/step - loss: 0.0146 - val_loss: 0.0052\n",
      "Epoch 3/100\n",
      "12/12 [==============================] - 3s 214ms/step - loss: 0.0102 - val_loss: 0.0014\n",
      "Epoch 4/100\n",
      "12/12 [==============================] - 3s 215ms/step - loss: 0.0097 - val_loss: 3.4428e-04\n",
      "Epoch 5/100\n",
      "12/12 [==============================] - 3s 213ms/step - loss: 0.0081 - val_loss: 4.6922e-04\n",
      "Epoch 6/100\n",
      "12/12 [==============================] - 3s 214ms/step - loss: 0.0067 - val_loss: 2.5609e-04\n",
      "Epoch 7/100\n",
      "12/12 [==============================] - 3s 220ms/step - loss: 0.0060 - val_loss: 2.3761e-04\n",
      "Epoch 8/100\n",
      "12/12 [==============================] - 3s 217ms/step - loss: 0.0054 - val_loss: 3.2647e-04\n",
      "Epoch 9/100\n",
      "12/12 [==============================] - 3s 220ms/step - loss: 0.0048 - val_loss: 2.7207e-04\n",
      "Epoch 10/100\n",
      "12/12 [==============================] - 3s 228ms/step - loss: 0.0044 - val_loss: 3.6058e-04\n",
      "Epoch 11/100\n",
      "12/12 [==============================] - 3s 216ms/step - loss: 0.0040 - val_loss: 4.2053e-04\n",
      "Epoch 12/100\n",
      "12/12 [==============================] - 3s 217ms/step - loss: 0.0039 - val_loss: 3.3327e-04\n",
      "Epoch 13/100\n",
      "12/12 [==============================] - 3s 216ms/step - loss: 0.0045 - val_loss: 3.6193e-04\n",
      "Epoch 14/100\n",
      "12/12 [==============================] - 3s 217ms/step - loss: 0.0037 - val_loss: 2.5757e-04\n",
      "Epoch 15/100\n",
      "12/12 [==============================] - 3s 218ms/step - loss: 0.0029 - val_loss: 5.1943e-04\n",
      "Epoch 16/100\n",
      "12/12 [==============================] - 3s 217ms/step - loss: 0.0030 - val_loss: 2.5051e-04\n",
      "Epoch 17/100\n",
      "12/12 [==============================] - 3s 216ms/step - loss: 0.0036 - val_loss: 0.0012\n",
      "Epoch 18/100\n",
      "12/12 [==============================] - 3s 218ms/step - loss: 0.0024 - val_loss: 1.9482e-04\n",
      "Epoch 19/100\n",
      "12/12 [==============================] - 3s 215ms/step - loss: 0.0026 - val_loss: 2.2979e-04\n",
      "Epoch 20/100\n",
      "12/12 [==============================] - 3s 217ms/step - loss: 0.0028 - val_loss: 2.1349e-04\n",
      "Epoch 21/100\n",
      "12/12 [==============================] - 3s 224ms/step - loss: 0.0028 - val_loss: 2.0086e-04\n",
      "Epoch 22/100\n",
      "12/12 [==============================] - 3s 217ms/step - loss: 0.0026 - val_loss: 2.7551e-04\n",
      "Epoch 23/100\n",
      "12/12 [==============================] - 3s 219ms/step - loss: 0.0025 - val_loss: 2.7171e-04\n",
      "Epoch 24/100\n",
      "12/12 [==============================] - 3s 221ms/step - loss: 0.0023 - val_loss: 2.2815e-04\n",
      "Epoch 25/100\n",
      "12/12 [==============================] - 3s 220ms/step - loss: 0.0031 - val_loss: 2.4106e-04\n",
      "Epoch 26/100\n",
      "12/12 [==============================] - 3s 216ms/step - loss: 0.0032 - val_loss: 3.5412e-04\n",
      "Epoch 27/100\n",
      "12/12 [==============================] - 3s 217ms/step - loss: 0.0046 - val_loss: 1.8818e-04\n",
      "Epoch 28/100\n",
      "12/12 [==============================] - 3s 216ms/step - loss: 0.0032 - val_loss: 2.1704e-04\n",
      "Epoch 29/100\n",
      "12/12 [==============================] - 3s 218ms/step - loss: 0.0027 - val_loss: 2.0847e-04\n",
      "Epoch 30/100\n",
      "12/12 [==============================] - 3s 218ms/step - loss: 0.0021 - val_loss: 2.1975e-04\n",
      "Epoch 31/100\n",
      "12/12 [==============================] - 3s 217ms/step - loss: 0.0040 - val_loss: 6.5701e-04\n",
      "Epoch 32/100\n",
      "12/12 [==============================] - 3s 218ms/step - loss: 0.0034 - val_loss: 3.7979e-04\n",
      "Epoch 33/100\n",
      "12/12 [==============================] - 3s 220ms/step - loss: 0.0030 - val_loss: 2.5875e-04\n",
      "Epoch 34/100\n",
      "12/12 [==============================] - 3s 219ms/step - loss: 0.0024 - val_loss: 1.8554e-04\n",
      "Epoch 35/100\n",
      "12/12 [==============================] - 3s 216ms/step - loss: 0.0019 - val_loss: 1.8192e-04\n",
      "Epoch 36/100\n",
      "12/12 [==============================] - 3s 216ms/step - loss: 0.0021 - val_loss: 1.9743e-04\n",
      "Epoch 37/100\n",
      "12/12 [==============================] - 3s 216ms/step - loss: 0.0020 - val_loss: 2.9052e-04\n",
      "Epoch 38/100\n",
      "12/12 [==============================] - 3s 217ms/step - loss: 0.0019 - val_loss: 1.9111e-04\n",
      "Epoch 39/100\n",
      "12/12 [==============================] - 3s 216ms/step - loss: 0.0017 - val_loss: 1.9907e-04\n",
      "Epoch 40/100\n",
      "12/12 [==============================] - 3s 217ms/step - loss: 0.0020 - val_loss: 2.4592e-04\n",
      "Epoch 41/100\n",
      "12/12 [==============================] - 3s 223ms/step - loss: 0.0017 - val_loss: 2.0695e-04\n",
      "Epoch 42/100\n",
      "12/12 [==============================] - 3s 220ms/step - loss: 0.0017 - val_loss: 2.7723e-04\n",
      "Epoch 43/100\n",
      "12/12 [==============================] - 3s 221ms/step - loss: 0.0017 - val_loss: 1.9160e-04\n",
      "Epoch 44/100\n",
      "12/12 [==============================] - 3s 220ms/step - loss: 0.0018 - val_loss: 2.6404e-04\n",
      "Epoch 45/100\n",
      "12/12 [==============================] - 3s 226ms/step - loss: 0.0020 - val_loss: 2.4044e-04\n",
      "Epoch 46/100\n",
      "12/12 [==============================] - 3s 216ms/step - loss: 0.0019 - val_loss: 1.8921e-04\n",
      "Epoch 47/100\n",
      "12/12 [==============================] - 3s 217ms/step - loss: 0.0016 - val_loss: 1.8946e-04\n",
      "Epoch 48/100\n",
      "12/12 [==============================] - 3s 216ms/step - loss: 0.0015 - val_loss: 1.9131e-04\n",
      "Epoch 49/100\n",
      "12/12 [==============================] - 3s 216ms/step - loss: 0.0014 - val_loss: 2.0692e-04\n",
      "Epoch 50/100\n",
      "12/12 [==============================] - 3s 216ms/step - loss: 0.0017 - val_loss: 1.9142e-04\n",
      "Epoch 51/100\n",
      "12/12 [==============================] - 3s 217ms/step - loss: 0.0015 - val_loss: 2.0472e-04\n",
      "Epoch 52/100\n",
      "12/12 [==============================] - 3s 217ms/step - loss: 0.0017 - val_loss: 2.6361e-04\n",
      "Epoch 53/100\n",
      "12/12 [==============================] - 3s 219ms/step - loss: 0.0050 - val_loss: 4.2908e-04\n",
      "Epoch 54/100\n",
      "12/12 [==============================] - 3s 219ms/step - loss: 0.0021 - val_loss: 4.6335e-04\n",
      "Epoch 55/100\n",
      "12/12 [==============================] - 3s 216ms/step - loss: 0.0020 - val_loss: 2.0692e-04\n",
      "Epoch 56/100\n",
      "12/12 [==============================] - 3s 216ms/step - loss: 0.0018 - val_loss: 1.9014e-04\n",
      "Epoch 57/100\n",
      "12/12 [==============================] - 3s 216ms/step - loss: 0.0018 - val_loss: 2.7770e-04\n",
      "Epoch 58/100\n",
      "12/12 [==============================] - 3s 224ms/step - loss: 0.0043 - val_loss: 3.0545e-04\n",
      "Epoch 59/100\n",
      "12/12 [==============================] - 3s 220ms/step - loss: 0.0033 - val_loss: 1.7849e-04\n",
      "Epoch 60/100\n",
      "12/12 [==============================] - 3s 216ms/step - loss: 0.0026 - val_loss: 3.6563e-04\n",
      "Epoch 61/100\n",
      "12/12 [==============================] - 3s 218ms/step - loss: 0.0021 - val_loss: 1.9106e-04\n",
      "Epoch 62/100\n",
      "12/12 [==============================] - 3s 218ms/step - loss: 0.0024 - val_loss: 4.2695e-04\n",
      "Epoch 63/100\n",
      "12/12 [==============================] - 3s 238ms/step - loss: 0.0020 - val_loss: 1.9793e-04\n",
      "Epoch 64/100\n",
      "12/12 [==============================] - 3s 217ms/step - loss: 0.0017 - val_loss: 1.9498e-04\n",
      "Epoch 65/100\n",
      "12/12 [==============================] - 3s 217ms/step - loss: 0.0019 - val_loss: 4.9421e-04\n",
      "Epoch 66/100\n",
      "12/12 [==============================] - 3s 225ms/step - loss: 0.0020 - val_loss: 1.9012e-04\n",
      "Epoch 67/100\n",
      "12/12 [==============================] - 3s 237ms/step - loss: 0.0018 - val_loss: 3.3269e-04\n",
      "Epoch 68/100\n",
      "12/12 [==============================] - 3s 238ms/step - loss: 0.0014 - val_loss: 2.1955e-04\n",
      "Epoch 69/100\n",
      "12/12 [==============================] - 3s 225ms/step - loss: 0.0012 - val_loss: 2.4353e-04\n",
      "Epoch 70/100\n",
      "12/12 [==============================] - 3s 232ms/step - loss: 0.0012 - val_loss: 2.9010e-04\n",
      "Epoch 71/100\n",
      "12/12 [==============================] - 3s 228ms/step - loss: 0.0014 - val_loss: 2.5294e-04\n",
      "Epoch 72/100\n",
      "12/12 [==============================] - 3s 225ms/step - loss: 0.0023 - val_loss: 3.5502e-04\n",
      "Epoch 73/100\n",
      "12/12 [==============================] - 3s 225ms/step - loss: 0.0032 - val_loss: 9.0881e-04\n",
      "Epoch 74/100\n",
      "12/12 [==============================] - 3s 231ms/step - loss: 0.0021 - val_loss: 2.3941e-04\n",
      "Epoch 75/100\n",
      "12/12 [==============================] - 3s 243ms/step - loss: 0.0016 - val_loss: 3.1888e-04\n",
      "Epoch 76/100\n",
      "12/12 [==============================] - 3s 237ms/step - loss: 0.0015 - val_loss: 2.7684e-04\n",
      "Epoch 77/100\n",
      "12/12 [==============================] - 3s 222ms/step - loss: 0.0014 - val_loss: 1.9745e-04\n",
      "Epoch 78/100\n"
     ]
    },
    {
     "name": "stdout",
     "output_type": "stream",
     "text": [
      "12/12 [==============================] - 3s 215ms/step - loss: 0.0013 - val_loss: 2.0033e-04\n",
      "Epoch 79/100\n",
      "12/12 [==============================] - 3s 213ms/step - loss: 0.0013 - val_loss: 1.7716e-04\n",
      "Epoch 80/100\n",
      "12/12 [==============================] - 3s 222ms/step - loss: 0.0012 - val_loss: 2.2302e-04\n",
      "Epoch 81/100\n",
      "12/12 [==============================] - 3s 238ms/step - loss: 0.0012 - val_loss: 1.8753e-04\n",
      "Epoch 82/100\n",
      "12/12 [==============================] - 3s 239ms/step - loss: 0.0012 - val_loss: 2.2646e-04\n",
      "Epoch 83/100\n",
      "12/12 [==============================] - 3s 241ms/step - loss: 0.0024 - val_loss: 3.4355e-04\n",
      "Epoch 84/100\n",
      "12/12 [==============================] - 3s 234ms/step - loss: 0.0020 - val_loss: 2.8717e-04\n",
      "Epoch 85/100\n",
      "12/12 [==============================] - 3s 223ms/step - loss: 0.0039 - val_loss: 1.6501e-04\n",
      "Epoch 86/100\n",
      "12/12 [==============================] - 3s 213ms/step - loss: 0.0031 - val_loss: 2.2353e-04\n",
      "Epoch 87/100\n",
      "12/12 [==============================] - 3s 212ms/step - loss: 0.0021 - val_loss: 1.6805e-04\n",
      "Epoch 88/100\n",
      "12/12 [==============================] - 3s 212ms/step - loss: 0.0021 - val_loss: 1.6336e-04\n",
      "Epoch 89/100\n",
      "12/12 [==============================] - 3s 213ms/step - loss: 0.0020 - val_loss: 3.6093e-04\n",
      "Epoch 90/100\n",
      "12/12 [==============================] - 3s 212ms/step - loss: 0.0021 - val_loss: 2.2510e-04\n",
      "Epoch 91/100\n",
      "12/12 [==============================] - 3s 220ms/step - loss: 0.0022 - val_loss: 5.4058e-04\n",
      "Epoch 92/100\n",
      "12/12 [==============================] - 3s 215ms/step - loss: 0.0014 - val_loss: 3.0986e-04\n",
      "Epoch 93/100\n",
      "12/12 [==============================] - 3s 212ms/step - loss: 0.0016 - val_loss: 1.6981e-04\n",
      "Epoch 94/100\n",
      "12/12 [==============================] - 3s 212ms/step - loss: 0.0012 - val_loss: 2.5717e-04\n",
      "Epoch 95/100\n",
      "12/12 [==============================] - 3s 213ms/step - loss: 0.0012 - val_loss: 1.7489e-04\n",
      "Epoch 96/100\n",
      "12/12 [==============================] - 3s 214ms/step - loss: 0.0011 - val_loss: 2.7569e-04\n",
      "Epoch 97/100\n",
      "12/12 [==============================] - 3s 222ms/step - loss: 0.0012 - val_loss: 1.8274e-04\n",
      "Epoch 98/100\n",
      "12/12 [==============================] - 3s 216ms/step - loss: 9.8125e-04 - val_loss: 2.5195e-04\n",
      "Epoch 99/100\n",
      "12/12 [==============================] - 3s 215ms/step - loss: 0.0011 - val_loss: 3.1449e-04\n",
      "Epoch 100/100\n",
      "12/12 [==============================] - 3s 214ms/step - loss: 0.0041 - val_loss: 1.6311e-04\n"
     ]
    },
    {
     "data": {
      "text/plain": [
       "<tensorflow.python.keras.callbacks.History at 0x5d38f8c2e0>"
      ]
     },
     "execution_count": 56,
     "metadata": {},
     "output_type": "execute_result"
    }
   ],
   "source": [
    "model.fit(X_train,y_train,validation_data=(X_test,y_test),epochs=100,batch_size=64,verbose=1)"
   ]
  },
  {
   "cell_type": "code",
   "execution_count": 59,
   "id": "1304a89d",
   "metadata": {},
   "outputs": [],
   "source": [
    "### Lets do the prediction and check performance metrics\n",
    "train_predict=model.predict(X_train)\n",
    "test_predict=model.predict(X_test)"
   ]
  },
  {
   "cell_type": "code",
   "execution_count": 60,
   "id": "c1afdda3",
   "metadata": {},
   "outputs": [],
   "source": [
    "### Transformback to original form\n",
    "train_predict=scaler.inverse_transform(train_predict)\n",
    "test_predict=scaler.inverse_transform(test_predict)"
   ]
  },
  {
   "cell_type": "code",
   "execution_count": 61,
   "id": "10819dbd",
   "metadata": {},
   "outputs": [
    {
     "data": {
      "text/plain": [
       "232.1435291463753"
      ]
     },
     "execution_count": 61,
     "metadata": {},
     "output_type": "execute_result"
    }
   ],
   "source": [
    "### Calculate RMSE performance metrics\n",
    "import math\n",
    "from sklearn.metrics import mean_squared_error\n",
    "math.sqrt(mean_squared_error(y_train,train_predict))"
   ]
  },
  {
   "cell_type": "code",
   "execution_count": 63,
   "id": "fa60972d",
   "metadata": {},
   "outputs": [
    {
     "data": {
      "text/plain": [
       "149.01928123765435"
      ]
     },
     "execution_count": 63,
     "metadata": {},
     "output_type": "execute_result"
    }
   ],
   "source": [
    "### Test Data RMSE\n",
    "math.sqrt(mean_squared_error(y_test,test_predict))"
   ]
  },
  {
   "cell_type": "code",
   "execution_count": 64,
   "id": "73e68335",
   "metadata": {},
   "outputs": [
    {
     "data": {
      "image/png": "[encoded data removed]",
      "text/plain": [
       "<Figure size 432x288 with 1 Axes>"
      ]
     },
     "metadata": {
      "needs_background": "light"
     },
     "output_type": "display_data"
    }
   ],
   "source": [
    "### Plotting\n",
    "# shift train predictions for plotting\n",
    "look_back=100\n",
    "trainPredictPlot = numpy.empty_like(df1)\n",
    "trainPredictPlot[:, :] = np.nan\n",
    "trainPredictPlot[look_back:len(train_predict)+look_back, :] = train_predict\n",
    "# shift test prediction for plotting\n",
    "testPredictPlot = numpy.empty_like(df1)\n",
    "testPredictPlot[:, :] = numpy.nan\n",
    "testPredictPlot[len(train_predict)+(look_back*2)+1:len(df1)-1, :] = test_predict\n",
    "# shift baselineand prediction\n",
    "plt.plot(scaler.inverse_transform(df1))\n",
    "plt.plot(trainPredictPlot)\n",
    "plt.plot(testPredictPlot)\n",
    "plt.show()"
   ]
  },
  {
   "cell_type": "code",
   "execution_count": null,
   "id": "bf1a7499",
   "metadata": {},
   "outputs": [],
   "source": []
  }
 ],
 "metadata": {
  "kernelspec": {
   "display_name": "Python 3",
   "language": "python",
   "name": "python3"
  },
  "language_info": {
   "codemirror_mode": {
    "name": "ipython",
    "version": 3
   },
   "file_extension": ".py",
   "mimetype": "text/x-python",
   "name": "python",
   "nbconvert_exporter": "python",
   "pygments_lexer": "ipython3",
   "version": "3.8.8"
  }
 },
 "nbformat": 4,
 "nbformat_minor": 5
}
